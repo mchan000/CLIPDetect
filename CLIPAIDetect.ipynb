{
  "cells": [
    {
      "cell_type": "markdown",
      "metadata": {
        "id": "view-in-github",
        "colab_type": "text"
      },
      "source": [
        "<a href=\"https://colab.research.google.com/github/mchan000/CLIPDetect/blob/main/CLIPAIDetect.ipynb\" target=\"_parent\"><img src=\"https://colab.research.google.com/assets/colab-badge.svg\" alt=\"Open In Colab\"/></a>"
      ]
    },
    {
      "cell_type": "code",
      "source": [
        "!pip install emnist\n",
        "from emnist import list_datasets\n",
        "import matplotlib as mpl\n",
        "import matplotlib.pyplot as plt\n",
        "%matplotlib inline"
      ],
      "metadata": {
        "colab": {
          "base_uri": "https://localhost:8080/"
        },
        "id": "JqKDhEYtliVC",
        "outputId": "21d82dfc-495f-4adc-8464-532b0fc7d8f8"
      },
      "execution_count": 4,
      "outputs": [
        {
          "output_type": "stream",
          "name": "stdout",
          "text": [
            "Collecting emnist\n",
            "  Downloading emnist-0.0-py3-none-any.whl (7.3 kB)\n",
            "Requirement already satisfied: tqdm in /usr/local/lib/python3.10/site-packages (from emnist) (4.65.0)\n",
            "Requirement already satisfied: numpy in /usr/local/lib/python3.10/site-packages (from emnist) (1.26.2)\n",
            "Requirement already satisfied: requests in /usr/local/lib/python3.10/site-packages (from emnist) (2.28.2)\n",
            "Requirement already satisfied: charset-normalizer<4,>=2 in /usr/local/lib/python3.10/site-packages (from requests->emnist) (3.1.0)\n",
            "Requirement already satisfied: urllib3<1.27,>=1.21.1 in /usr/local/lib/python3.10/site-packages (from requests->emnist) (1.26.15)\n",
            "Requirement already satisfied: idna<4,>=2.5 in /usr/local/lib/python3.10/site-packages (from requests->emnist) (3.4)\n",
            "Requirement already satisfied: certifi>=2017.4.17 in /usr/local/lib/python3.10/site-packages (from requests->emnist) (2022.12.7)\n",
            "Installing collected packages: emnist\n",
            "Successfully installed emnist-0.0\n",
            "\u001b[33mWARNING: Running pip as the 'root' user can result in broken permissions and conflicting behaviour with the system package manager. It is recommended to use a virtual environment instead: https://pip.pypa.io/warnings/venv\u001b[0m\u001b[33m\n",
            "\u001b[0m"
          ]
        }
      ]
    },
    {
      "cell_type": "code",
      "source": [
        "list_datasets()"
      ],
      "metadata": {
        "colab": {
          "base_uri": "https://localhost:8080/"
        },
        "id": "xJMcqZlFmMfI",
        "outputId": "e8b3d2d7-5f43-493c-8f8e-e09f9f49a5cc"
      },
      "execution_count": 5,
      "outputs": [
        {
          "output_type": "stream",
          "name": "stderr",
          "text": [
            "Downloading emnist.zip: 536MB [00:22, 24.5MB/s]\n"
          ]
        },
        {
          "output_type": "execute_result",
          "data": {
            "text/plain": [
              "['balanced', 'byclass', 'bymerge', 'digits', 'letters', 'mnist']"
            ]
          },
          "metadata": {},
          "execution_count": 5
        }
      ]
    },
    {
      "cell_type": "code",
      "source": [
        "from emnist import extract_training_samples\n",
        "images, labels = extract_training_samples('balanced')\n",
        "images.shape"
      ],
      "metadata": {
        "colab": {
          "base_uri": "https://localhost:8080/"
        },
        "id": "O7ojJZTTnrT_",
        "outputId": "0ad1d307-ca0c-4930-fc5f-ad136e39d5f0"
      },
      "execution_count": 10,
      "outputs": [
        {
          "output_type": "execute_result",
          "data": {
            "text/plain": [
              "(112800, 28, 28)"
            ]
          },
          "metadata": {},
          "execution_count": 10
        }
      ]
    },
    {
      "cell_type": "code",
      "source": [
        "# Install required libraries for CLIP\n",
        "!pip install transformers"
      ],
      "metadata": {
        "colab": {
          "base_uri": "https://localhost:8080/"
        },
        "id": "ZRaJqlMbwpiC",
        "outputId": "1d3e7895-fa51-4dbf-efb9-459ab55d75ec"
      },
      "execution_count": 11,
      "outputs": [
        {
          "output_type": "stream",
          "name": "stdout",
          "text": [
            "Requirement already satisfied: transformers in /usr/local/lib/python3.10/site-packages (4.35.2)\n",
            "Requirement already satisfied: huggingface-hub<1.0,>=0.16.4 in /usr/local/lib/python3.10/site-packages (from transformers) (0.19.4)\n",
            "Requirement already satisfied: safetensors>=0.3.1 in /usr/local/lib/python3.10/site-packages (from transformers) (0.4.1)\n",
            "Requirement already satisfied: requests in /usr/local/lib/python3.10/site-packages (from transformers) (2.28.2)\n",
            "Requirement already satisfied: packaging>=20.0 in /usr/local/lib/python3.10/site-packages (from transformers) (23.2)\n",
            "Requirement already satisfied: regex!=2019.12.17 in /usr/local/lib/python3.10/site-packages (from transformers) (2023.10.3)\n",
            "Requirement already satisfied: tokenizers<0.19,>=0.14 in /usr/local/lib/python3.10/site-packages (from transformers) (0.15.0)\n",
            "Requirement already satisfied: numpy>=1.17 in /usr/local/lib/python3.10/site-packages (from transformers) (1.26.2)\n",
            "Requirement already satisfied: filelock in /usr/local/lib/python3.10/site-packages (from transformers) (3.13.1)\n",
            "Requirement already satisfied: pyyaml>=5.1 in /usr/local/lib/python3.10/site-packages (from transformers) (6.0.1)\n",
            "Requirement already satisfied: tqdm>=4.27 in /usr/local/lib/python3.10/site-packages (from transformers) (4.65.0)\n",
            "Requirement already satisfied: fsspec>=2023.5.0 in /usr/local/lib/python3.10/site-packages (from huggingface-hub<1.0,>=0.16.4->transformers) (2023.12.1)\n",
            "Requirement already satisfied: typing-extensions>=3.7.4.3 in /usr/local/lib/python3.10/site-packages (from huggingface-hub<1.0,>=0.16.4->transformers) (4.8.0)\n",
            "Requirement already satisfied: certifi>=2017.4.17 in /usr/local/lib/python3.10/site-packages (from requests->transformers) (2022.12.7)\n",
            "Requirement already satisfied: charset-normalizer<4,>=2 in /usr/local/lib/python3.10/site-packages (from requests->transformers) (3.1.0)\n",
            "Requirement already satisfied: urllib3<1.27,>=1.21.1 in /usr/local/lib/python3.10/site-packages (from requests->transformers) (1.26.15)\n",
            "Requirement already satisfied: idna<4,>=2.5 in /usr/local/lib/python3.10/site-packages (from requests->transformers) (3.4)\n",
            "\u001b[33mWARNING: Running pip as the 'root' user can result in broken permissions and conflicting behaviour with the system package manager. It is recommended to use a virtual environment instead: https://pip.pypa.io/warnings/venv\u001b[0m\u001b[33m\n",
            "\u001b[0m"
          ]
        }
      ]
    },
    {
      "cell_type": "code",
      "source": [
        "# Install CLIP dependencies (https://github.com/openai/CLIP)\n",
        "!conda install --yes -c pytorch pytorch=1.7.1 torchvision cudatoolkit=11.0\n",
        "!pip install ftfy regex tqdm\n",
        "!pip install git+https://github.com/openai/CLIP.git"
      ],
      "metadata": {
        "colab": {
          "base_uri": "https://localhost:8080/"
        },
        "id": "qRDXVbyVww1x",
        "outputId": "c5e3f37d-470f-4e0e-a3cf-7bb23035a412"
      },
      "execution_count": 14,
      "outputs": [
        {
          "output_type": "stream",
          "name": "stdout",
          "text": [
            "Collecting package metadata (current_repodata.json): - \b\b\\ \b\b| \b\b/ \b\b- \b\b\\ \b\b| \b\b/ \b\b- \b\b\\ \b\b| \b\b/ \b\b- \b\b\\ \b\b| \b\b/ \b\b- \b\b\\ \b\b| \b\b/ \b\b- \b\b\\ \b\b| \b\b/ \b\b- \b\b\\ \b\b| \b\b/ \b\b- \b\b\\ \b\b| \b\b/ \b\b- \b\b\\ \b\b| \b\b/ \b\b- \b\b\\ \b\b| \b\b/ \b\b- \b\b\\ \b\b| \b\b/ \b\b- \b\b\\ \b\b| \b\b/ \b\b- \b\b\\ \b\b| \b\b/ \b\b- \b\b\\ \b\b| \b\b/ \b\b- \b\b\\ \b\b| \b\b/ \b\b- \b\b\\ \b\b| \b\b/ \b\b- \b\b\\ \b\b| \b\b/ \b\b- \b\b\\ \b\b| \b\b/ \b\b- \b\b\\ \b\b| \b\b/ \b\b- \b\b\\ \b\b| \b\b/ \b\b- \b\b\\ \b\b| \b\b/ \b\b- \b\b\\ \b\b| \b\b/ \b\b- \b\b\\ \b\b| \b\b/ \b\b- \b\b\\ \b\b| \b\b/ \b\b- \b\b\\ \b\b| \b\b/ \b\b- \b\b\\ \b\b| \b\b/ \b\b- \b\b\\ \b\b| \b\b/ \b\b- \b\b\\ \b\b| \b\b/ \b\b- \b\b\\ \b\b| \b\b/ \b\b- \b\b\\ \b\b| \b\b/ \b\b- \b\b\\ \b\b| WARNING conda.models.version:get_matcher(546): Using .* with relational operator is superfluous and deprecated and will be removed in a future version of conda. Your spec was 1.7.1.*, but conda is ignoring the .* and treating it as 1.7.1\n",
            "\b\b/ \b\b- \b\b\\ \b\b| \b\b/ \b\b- \b\b\\ \b\b| \b\b/ \b\b- \b\b\\ \b\b| \b\bdone\n",
            "Solving environment: - \b\b\\ \b\b| \b\b/ \b\b- \b\b\\ \b\b| \b\b/ \b\b- \b\b\\ \b\b| \b\b/ \b\b- \b\b\\ \b\b| \b\b/ \b\b- \b\b\\ \b\b| \b\b/ \b\b- \b\b\\ \b\b| \b\b/ \b\b- \b\b\\ \b\b| \b\b/ \b\b- \b\b\\ \b\b| \b\b/ \b\b- \b\b\\ \b\b| \b\b/ \b\b- \b\b\\ \b\b| \b\b/ \b\b- \b\b\\ \b\b| \b\b/ \b\b- \b\b\\ \b\b| \b\b/ \b\b- \b\b\\ \b\b| \b\b/ \b\b- \b\b\\ \b\b| \b\b/ \b\b- \b\b\\ \b\b| \b\b/ \b\b- \b\b\\ \b\b| \b\b/ \b\b- \b\b\\ \b\b| \b\b/ \b\b- \b\b\\ \b\b| \b\b/ \b\b- \b\b\\ \b\b| \b\b/ WARNING conda.core.solve:_add_specs(639): pinned spec cudatoolkit=11.8 conflicts with explicit specs.  Overriding pinned spec.\n",
            "\b\b- \b\b\\ \b\b| \b\b/ \b\b- \b\b\\ \b\b| \b\b/ \b\b- \b\b\\ \b\b| \b\b/ \b\b- \b\b\\ \b\b| \b\b/ \b\b- \b\b\\ \b\b| \b\b/ \b\b- \b\b\\ \b\b| \b\b/ \b\b- \b\b\\ \b\b| \b\b/ \b\b- \b\b\\ \b\b| \b\b/ \b\b- \b\b\\ \b\b| \b\b/ \b\b- \b\b\\ \b\b| \b\b/ \b\b- \b\b\\ \b\b| \b\b/ \b\b- \b\b\\ \b\b| \b\b/ \b\b- \b\b\\ \b\b| \b\b/ \b\b- \b\b\\ \b\b| \b\b/ \b\b- \b\b\\ \b\b| \b\b/ \b\b- \b\b\\ \b\b| \b\b/ \b\b- \b\b\\ \b\b| \b\b/ \b\b- \b\b\\ \b\b| \b\b/ \b\b- \b\b\\ \b\b| \b\b/ \b\b- \b\b\\ \b\b| \b\bfailed with initial frozen solve. Retrying with flexible solve.\n",
            "Solving environment: - \b\b\\ \b\b| \b\b/ \b\b- \b\b\\ \b\b| \b\b/ \b\b- \b\b\\ \b\b| \b\b/ \b\b- \b\b\\ \b\b| \b\b/ \b\b- \b\b\\ \b\b| \b\b/ \b\b- \b\b\\ \b\b| \b\b/ \b\b- \b\b\\ \b\b| \b\b/ \b\b- \b\b\\ \b\b| \b\b/ \b\b- \b\b\\ \b\b| \b\b/ \b\b- \b\b\\ \b\b| \b\b/ \b\b- \b\b\\ \b\b| \b\b/ \b\b- \b\b\\ \b\b| \b\b/ \b\b- \b\b\\ \b\b| \b\b/ \b\b- \b\b\\ \b\b| \b\b/ \b\b- \b\b\\ \b\b| \b\b/ \b\b- \b\b\\ \b\b| \b\b/ \b\b- \b\b\\ \b\b| \b\b/ \b\b- \b\b\\ \b\b| \b\b/ WARNING conda.core.solve:_add_specs(639): pinned spec cudatoolkit=11.8 conflicts with explicit specs.  Overriding pinned spec.\n",
            "\b\b- \b\b\\ \b\b| \b\b/ \b\b- \b\b\\ \b\b| \b\b/ \b\b- \b\b\\ \b\b| \b\b/ \b\b- \b\b\\ \b\b| \b\b/ \b\b- \b\b\\ \b\b| \b\b/ \b\b- \b\b\\ \b\b| \b\b/ \b\b- \b\b\\ \b\b| \b\b/ \b\b- \b\b\\ \b\b| \b\b/ \b\b- \b\b\\ \b\b| \b\b/ \b\b- \b\b\\ \b\b| \b\b/ \b\b- \b\b\\ \b\b| \b\b/ \b\b- \b\b\\ \b\b| \b\b/ \b\b- \b\b\\ \b\b| \b\b/ \b\b- \b\b\\ \b\b| \b\b/ \b\b- \b\b\\ \b\b| \b\b/ \b\b- \b\b\\ \b\b| \b\b/ \b\b- \b\b\\ \b\b| \b\b/ \b\b- \b\b\\ \b\b| \b\b/ \b\b- \b\b\\ \b\b| \b\b/ \b\b- \b\b\\ \b\b| \b\b/ \b\b- \b\b\\ \b\b| \b\b/ \b\b- \b\b\\ \b\b| \b\b/ \b\b- \b\b\\ \b\b| \b\b/ \b\b- \b\b\\ \b\b| \b\b/ \b\b- \b\b\\ \b\b| \b\b/ \b\b- \b\b\\ \b\b| \b\b/ \b\b- \b\b\\ \b\bfailed with repodata from current_repodata.json, will retry with next repodata source.\n",
            "Collecting package metadata (repodata.json): / \b\b- \b\b\\ \b\b| \b\b/ \b\b- \b\b\\ \b\b| \b\b/ \b\b- \b\b\\ \b\b| \b\b/ \b\b- \b\b\\ \b\b| \b\b/ \b\b- \b\b\\ \b\b| \b\b/ \b\b- \b\b\\ \b\b| \b\b/ \b\b- \b\b\\ \b\b| \b\b/ \b\b- \b\b\\ \b\b| \b\b/ \b\b- \b\b\\ \b\b| \b\b/ \b\b- \b\b\\ \b\b| \b\b/ \b\b- \b\b\\ \b\b| \b\b/ \b\b- \b\b\\ \b\b| \b\b/ \b\b- \b\b\\ \b\b| \b\b/ \b\b- \b\b\\ \b\b| \b\b/ \b\b- \b\b\\ \b\b| \b\b/ \b\b- \b\b\\ \b\b| \b\b/ \b\b- \b\b\\ \b\b| \b\b/ \b\b- \b\b\\ \b\b| \b\b/ \b\b- \b\b\\ \b\b| \b\b/ \b\b- \b\b\\ \b\b| \b\b/ \b\b- \b\b\\ \b\b| \b\b/ \b\b- \b\b\\ \b\b| \b\b/ \b\b- \b\b\\ \b\b| \b\b/ \b\b- \b\b\\ \b\b| \b\b/ \b\b- \b\b\\ \b\b| \b\b/ \b\b- \b\b\\ \b\b| \b\b/ \b\b- \b\b\\ \b\b| \b\b/ \b\b- \b\b\\ \b\b| \b\b/ \b\b- \b\b\\ \b\b| \b\b/ \b\b- \b\b\\ \b\b| \b\b/ \b\b- \b\b\\ \b\b| \b\b/ \b\b- \b\b\\ \b\b| \b\b/ \b\b- \b\b\\ \b\b| \b\b/ \b\b- \b\b\\ \b\b| \b\b/ \b\b- \b\b\\ \b\b| \b\b/ \b\b- \b\b\\ \b\b| \b\b/ \b\b- \b\b\\ \b\b| \b\b/ \b\b- \b\b\\ \b\b| \b\b/ \b\b- \b\b\\ \b\b| \b\b/ \b\b- \b\b\\ \b\b| \b\b/ \b\b- \b\b\\ \b\b| \b\b/ \b\b- \b\b\\ \b\b| \b\b/ \b\b- \b\b\\ \b\b| \b\b/ \b\b- \b\b\\ \b\b| \b\b/ \b\b- \b\b\\ \b\b| \b\b/ \b\b- \b\b\\ \b\b| \b\b/ \b\b- \b\b\\ \b\b| \b\b/ \b\b- \b\b\\ \b\b| \b\b/ \b\b- \b\b\\ \b\b| \b\b/ \b\b- \b\b\\ \b\b| \b\b/ \b\b- \b\b\\ \b\b| \b\b/ \b\b- \b\b\\ \b\b| \b\b/ \b\b- \b\b\\ \b\b| \b\b/ \b\b- \b\b\\ \b\b| \b\b/ \b\b- \b\b\\ \b\b| \b\b/ \b\b- \b\b\\ \b\b| \b\b/ \b\b- \b\b\\ \b\b| \b\b/ \b\b- \b\b\\ \b\b| \b\b/ \b\b- \b\b\\ \b\b| \b\b/ \b\b- \b\b\\ \b\b| \b\b/ \b\b- \b\b\\ \b\b| \b\b/ \b\b- \b\b\\ \b\b| \b\b/ \b\b- \b\b\\ \b\b| \b\b/ \b\b- \b\b\\ \b\b| \b\b/ \b\b- \b\b\\ \b\b| \b\b/ \b\b- \b\b\\ \b\b| \b\b/ \b\b- \b\b\\ \b\b| \b\b/ \b\b- \b\b\\ \b\b| \b\b/ \b\b- \b\b\\ \b\b| \b\b/ \b\b- \b\b\\ \b\b| \b\b/ \b\b- \b\b\\ \b\b| \b\b/ \b\b- \b\b\\ \b\b| \b\b/ \b\b- \b\b\\ \b\b| \b\b/ \b\b- \b\b\\ \b\b| \b\b/ \b\b- \b\b\\ \b\b| \b\b/ \b\b- \b\b\\ \b\b| \b\b/ \b\b- \b\b\\ \b\b| \b\b/ \b\b- \b\b\\ \b\b| \b\b/ \b\b- \b\b\\ \b\b| \b\b/ \b\b- \b\b\\ \b\b| \b\b/ \b\b- \b\b\\ \b\b| \b\b/ \b\b- \b\b\\ \b\b| \b\b/ \b\b- \b\b\\ \b\b| \b\b/ \b\b- \b\b\\ \b\b| \b\b/ \b\b- \b\b\\ \b\b| \b\b/ \b\b- \b\b\\ \b\b| \b\b/ \b\b- \b\b\\ \b\b| \b\b/ \b\b- \b\b\\ \b\b| \b\b/ \b\b- \b\b\\ \b\b| \b\b/ \b\b- \b\b\\ \b\b| \b\b/ \b\b- \b\b\\ \b\b| \b\b/ \b\b- \b\b\\ \b\b| \b\b/ \b\b- \b\b\\ \b\b| \b\b/ \b\b- \b\b\\ \b\b| \b\b/ \b\b- \b\b\\ \b\b| \b\b/ \b\b- \b\b\\ \b\b| \b\b/ \b\b- \b\b\\ \b\b| \b\b/ \b\b- \b\b\\ \b\b| \b\b/ \b\b- \b\b\\ \b\b| \b\b/ \b\b- \b\b\\ \b\b| \b\b/ \b\b- \b\b\\ \b\b| \b\b/ \b\b- \b\b\\ \b\b| \b\b/ \b\b- \b\b\\ \b\b| \b\b/ \b\b- \b\b\\ \b\b| \b\b/ \b\b- \b\b\\ \b\b| \b\b/ \b\b- \b\b\\ \b\b| \b\b/ \b\b- \b\b\\ \b\b| \b\b/ \b\b- \b\b\\ \b\b| \b\b/ \b\b- \b\b\\ \b\b| \b\b/ \b\b- \b\b\\ \b\b| \b\b/ \b\b- \b\b\\ \b\b| \b\b/ \b\b- \b\b\\ \b\b| \b\b/ \b\b- \b\b\\ \b\b| \b\b/ \b\b- \b\b\\ \b\b| \b\b/ \b\b- \b\b\\ \b\b| \b\b/ \b\b- \b\b\\ \b\b| \b\b/ \b\b- \b\b\\ \b\b| \b\b/ \b\b- \b\b\\ \b\b| \b\b/ \b\b- \b\b\\ \b\b| \b\b/ \b\b- \b\b\\ \b\b| \b\b/ \b\b- \b\b\\ \b\b| \b\b/ \b\b- \b\b\\ \b\b| \b\b/ \b\b- \b\b\\ \b\b| \b\b/ \b\b- \b\b\\ \b\b| \b\b/ \b\b- \b\b\\ \b\b| \b\b/ \b\b- \b\b\\ \b\b| \b\b/ \b\b- \b\b\\ \b\b| \b\b/ \b\b- \b\b\\ \b\b| \b\b/ \b\b- \b\b\\ \b\b| \b\b/ \b\b- \b\b\\ \b\b| \b\b/ \b\b- \b\b\\ \b\b| \b\b/ \b\b- \b\b\\ \b\b| \b\b/ \b\b- \b\b\\ \b\b| \b\b/ \b\b- \b\b\\ \b\b| \b\b/ \b\b- \b\b\\ \b\b| \b\b/ \b\b- \b\b\\ \b\b| \b\b/ \b\b- \b\b\\ WARNING conda.models.version:get_matcher(546): Using .* with relational operator is superfluous and deprecated and will be removed in a future version of conda. Your spec was 1.9.0.*, but conda is ignoring the .* and treating it as 1.9.0\n",
            "WARNING conda.models.version:get_matcher(546): Using .* with relational operator is superfluous and deprecated and will be removed in a future version of conda. Your spec was 1.6.0.*, but conda is ignoring the .* and treating it as 1.6.0\n",
            "WARNING conda.models.version:get_matcher(546): Using .* with relational operator is superfluous and deprecated and will be removed in a future version of conda. Your spec was 1.8.0.*, but conda is ignoring the .* and treating it as 1.8.0\n",
            "\b\b| \b\b/ \b\b- \b\b\\ \b\b| \b\b/ \b\b- \b\b\\ \b\b| \b\b/ \b\b- \b\b\\ \b\b| \b\b/ \b\b- \b\b\\ \b\b| \b\b/ \b\b- \b\b\\ \b\b| \b\b/ \b\b- \b\b\\ \b\b| \b\b/ \b\b- \b\b\\ \b\b| \b\b/ \b\b- \b\b\\ \b\b| \b\b/ \b\b- \b\b\\ \b\b| \b\bdone\n",
            "Solving environment: - \b\b\\ \b\b| \b\b/ \b\b- \b\b\\ \b\b| \b\b/ \b\b- \b\b\\ \b\b| \b\b/ \b\b- \b\b\\ \b\b| \b\b/ \b\b- \b\b\\ \b\b| \b\b/ \b\b- \b\b\\ \b\b| \b\b/ \b\b- \b\b\\ \b\b| \b\b/ \b\b- \b\b\\ \b\b| \b\b/ \b\b- \b\b\\ \b\b| \b\b/ \b\b- \b\b\\ \b\b| \b\b/ \b\b- \b\b\\ \b\b| \b\b/ \b\b- \b\b\\ \b\b| \b\b/ \b\b- \b\b\\ \b\b| \b\b/ \b\b- \b\b\\ \b\b| \b\b/ \b\b- \b\b\\ \b\b| \b\b/ \b\b- \b\b\\ \b\b| \b\b/ \b\b- \b\b\\ \b\b| \b\b/ \b\b- \b\b\\ \b\b| \b\b/ \b\b- \b\b\\ \b\b| \b\b/ \b\b- \b\b\\ \b\b| \b\b/ \b\b- \b\b\\ \b\b| \b\b/ \b\b- \b\b\\ \b\b| \b\b/ \b\b- \b\b\\ \b\b| \b\b/ \b\b- \b\b\\ \b\b| \b\b/ \b\b- \b\b\\ \b\b| \b\b/ \b\b- \b\b\\ \b\b| \b\b/ \b\b- \b\b\\ \b\b| \b\b/ \b\b- \b\b\\ \b\b| \b\b/ \b\b- \b\b\\ \b\b| \b\b/ \b\b- \b\b\\ \b\b| \b\b/ \b\b- \b\b\\ \b\b| \b\b/ \b\b- \b\b\\ \b\b| \b\b/ \b\b- \b\b\\ \b\b| \b\b/ \b\b- \b\b\\ \b\b| \b\b/ \b\b- \b\b\\ \b\b| \b\b/ \b\b- \b\b\\ \b\b| \b\b/ \b\b- \b\b\\ \b\b| \b\b/ \b\b- \b\b\\ \b\b| \b\b/ \b\b- \b\b\\ \b\b| \b\b/ \b\b- \b\b\\ \b\b| \b\b/ \b\b- \b\b\\ \b\b| \b\b/ \b\b- \b\b\\ \b\b| \b\b/ \b\b- \b\b\\ \b\b| \b\b/ \b\b- \b\b\\ \b\b| \b\b/ \b\b- \b\b\\ \b\b| \b\b/ \b\b- \b\b\\ \b\b| \b\b/ \b\b- \b\b\\ \b\b| \b\b/ \b\b- \b\b\\ \b\b| \b\b/ \b\b- \b\b\\ \b\b| \b\b/ \b\b- \b\b\\ \b\b| \b\b/ \b\b- \b\b\\ \b\b| \b\b/ \b\b- \b\b\\ \b\b| \b\b/ \b\b- \b\b\\ \b\b| \b\b/ \b\b- \b\b\\ \b\b| \b\b/ \b\b- \b\b\\ \b\b| \b\b/ \b\b- \b\b\\ \b\b| \b\b/ \b\b- \b\b\\ \b\b| \b\b/ \b\b- \b\b\\ \b\b| \b\b/ \b\b- \b\b\\ \b\b| \b\b/ \b\b- \b\b\\ \b\b| \b\b/ \b\b- \b\b\\ \b\b| \b\b/ \b\b- \b\b\\ \b\b| \b\b/ \b\b- \b\b\\ \b\b| \b\b/ \b\b- \b\b\\ \b\b| \b\b/ \b\b- \b\b\\ \b\b| \b\b/ \b\b- \b\b\\ \b\b| \b\b/ \b\b- \b\b\\ \b\b| \b\b/ \b\b- \b\b\\ \b\b| \b\b/ \b\b- \b\b\\ \b\b| \b\b/ \b\b- \b\b\\ \b\b| \b\b/ \b\b- \b\b\\ \b\b| \b\b/ \b\b- \b\b\\ \b\b| \b\b/ \b\b- \b\b\\ \b\b| \b\b/ \b\b- \b\b\\ \b\b| \b\b/ \b\b- \b\b\\ \b\b| \b\b/ \b\b- \b\b\\ \b\b| \b\b/ \b\b- \b\b\\ \b\b| \b\b/ \b\b- \b\b\\ \b\b| \b\b/ \b\b- \b\b\\ \b\b| \b\b/ \b\b- \b\b\\ \b\b| \b\b/ \b\b- \b\b\\ \b\b| \b\b/ \b\b- \b\b\\ \b\b| \b\b/ \b\b- \b\b\\ \b\b| \b\b/ \b\b- \b\b\\ \b\b| \b\b/ \b\b- \b\b\\ \b\b| \b\b/ \b\b- \b\b\\ \b\b| \b\b/ \b\b- \b\b\\ \b\b| \b\b/ \b\b- \b\b\\ \b\b| \b\b/ \b\b- \b\b\\ \b\b| \b\b/ \b\b- \b\b\\ \b\b| \b\b/ \b\b- \b\b\\ \b\b| \b\b/ \b\b- \b\b\\ \b\b| \b\b/ \b\b- \b\b\\ \b\b| \b\b/ \b\b- \b\b\\ \b\b| \b\b/ \b\b- \b\b\\ \b\b| \b\b/ \b\b- \b\b\\ \b\b| \b\b/ \b\b- \b\b\\ \b\b| \b\b/ \b\b- \b\b\\ \b\b| \b\b/ \b\b- \b\b\\ \b\b| \b\b/ \b\b- \b\b\\ \b\b| \b\b/ \b\b- \b\b\\ \b\b| \b\b/ \b\b- \b\b\\ \b\b| \b\b/ \b\b- \b\b\\ \b\b| WARNING conda.core.solve:_add_specs(639): pinned spec cudatoolkit=11.8 conflicts with explicit specs.  Overriding pinned spec.\n",
            "\b\b/ \b\b- \b\b\\ \b\b| \b\b/ \b\b- \b\b\\ \b\b| \b\b/ \b\b- \b\b\\ \b\b| \b\b/ \b\b- \b\b\\ \b\b| \b\b/ \b\b- \b\b\\ \b\b| \b\b/ \b\b- \b\b\\ \b\b| \b\b/ \b\b- \b\b\\ \b\b| \b\b/ \b\b- \b\b\\ \b\b| \b\b/ \b\b- \b\b\\ \b\b| \b\b/ \b\b- \b\b\\ \b\b| \b\b/ \b\b- \b\b\\ \b\b| \b\b/ \b\b- \b\b\\ \b\b| \b\b/ \b\b- \b\b\\ \b\b| \b\b/ \b\b- \b\b\\ \b\b| \b\b/ \b\b- \b\b\\ \b\b| \b\b/ \b\b- \b\b\\ \b\b| \b\b/ \b\b- \b\b\\ \b\b| \b\b/ \b\b- \b\b\\ \b\b| \b\b/ \b\b- \b\b\\ \b\b| \b\b/ \b\b- \b\b\\ \b\b| \b\b/ \b\b- \b\b\\ \b\b| \b\b/ \b\b- \b\b\\ \b\b| \b\b/ \b\b- \b\b\\ \b\b| \b\b/ \b\b- \b\b\\ \b\b| \b\b/ \b\b- \b\b\\ \b\b| \b\b/ \b\b- \b\b\\ \b\b| \b\b/ \b\b- \b\b\\ \b\b| \b\b/ \b\b- \b\b\\ \b\b| \b\b/ \b\b- \b\b\\ \b\b| \b\b/ \b\b- \b\b\\ \b\b| \b\b/ \b\b- \b\b\\ \b\b| \b\b/ \b\b- \b\b\\ \b\b| \b\b/ \b\b- \b\b\\ \b\b| \b\b/ \b\b- \b\b\\ \b\b| \b\b/ \b\b- \b\b\\ \b\b| \b\b/ \b\b- \b\b\\ \b\b| \b\b/ \b\b- \b\bfailed with initial frozen solve. Retrying with flexible solve.\n",
            "Solving environment: | \b\b/ \b\b- \b\b\\ \b\b| \b\b/ \b\b- \b\b\\ \b\b| \b\b/ \b\b- \b\b\\ \b\b| \b\b/ \b\b- \b\b\\ \b\b| \b\b/ \b\b- \b\b\\ \b\b| \b\b/ \b\b- \b\b\\ \b\b| \b\b/ \b\b- \b\b\\ \b\b| \b\b/ \b\b- \b\b\\ \b\b| \b\b/ \b\b- \b\b\\ \b\b| \b\b/ \b\b- \b\b\\ \b\b| \b\b/ \b\b- \b\b\\ \b\b| \b\b/ \b\b- \b\b\\ \b\b| \b\b/ \b\b- \b\b\\ \b\b| \b\b/ \b\b- \b\b\\ \b\b| \b\b/ \b\b- \b\b\\ \b\b| \b\b/ \b\b- \b\b\\ \b\b| \b\b/ \b\b- \b\b\\ \b\b| \b\b/ \b\b- \b\b\\ \b\b| \b\b/ \b\b- \b\b\\ \b\b| \b\b/ \b\b- \b\b\\ \b\b| \b\b/ \b\b- \b\b\\ \b\b| \b\b/ \b\b- \b\b\\ \b\b| \b\b/ \b\b- \b\b\\ \b\b| \b\b/ \b\b- \b\b\\ \b\b| \b\b/ \b\b- \b\b\\ \b\b| \b\b/ \b\b- \b\b\\ \b\b| \b\b/ \b\b- \b\b\\ \b\b| \b\b/ \b\b- \b\b\\ \b\b| \b\b/ \b\b- \b\b\\ \b\b| \b\b/ \b\b- \b\b\\ \b\b| \b\b/ \b\b- \b\b\\ \b\b| \b\b/ \b\b- \b\b\\ \b\b| \b\b/ \b\b- \b\b\\ \b\b| \b\b/ \b\b- \b\b\\ \b\b| \b\b/ \b\b- \b\b\\ \b\b| \b\b/ \b\b- \b\b\\ \b\b| \b\b/ \b\b- \b\b\\ \b\b| \b\b/ \b\b- \b\b\\ \b\b| \b\b/ \b\b- \b\b\\ \b\b| \b\b/ \b\b- \b\b\\ \b\b| \b\b/ \b\b- \b\b\\ \b\b| \b\b/ \b\b- \b\b\\ \b\b| \b\b/ \b\b- \b\b\\ \b\b| \b\b/ \b\b- \b\b\\ \b\b| \b\b/ \b\b- \b\b\\ \b\b| \b\b/ \b\b- \b\b\\ \b\b| \b\b/ \b\b- \b\b\\ \b\b| \b\b/ \b\b- \b\b\\ \b\b| \b\b/ \b\b- \b\b\\ \b\b| \b\b/ \b\b- \b\b\\ \b\b| \b\b/ \b\b- \b\b\\ \b\b| \b\b/ \b\b- \b\b\\ \b\b| \b\b/ \b\b- \b\b\\ \b\b| \b\b/ \b\b- \b\b\\ \b\b| \b\b/ \b\b- \b\b\\ \b\b| \b\b/ \b\b- \b\b\\ \b\b| \b\b/ \b\b- \b\b\\ \b\b| \b\b/ \b\b- \b\b\\ \b\b| \b\b/ \b\b- \b\b\\ \b\b| \b\b/ \b\b- \b\b\\ \b\b| \b\b/ \b\b- \b\b\\ \b\b| \b\b/ \b\b- \b\b\\ \b\b| \b\b/ \b\b- \b\b\\ \b\b| \b\b/ \b\b- \b\b\\ \b\b| \b\b/ \b\b- \b\b\\ \b\b| \b\b/ \b\b- \b\b\\ \b\b| \b\b/ \b\b- \b\b\\ \b\b| \b\b/ \b\b- \b\b\\ \b\b| \b\b/ \b\b- \b\b\\ \b\b| \b\b/ \b\b- \b\b\\ \b\b| \b\b/ \b\b- \b\b\\ \b\b| \b\b/ \b\b- \b\b\\ \b\b| \b\b/ \b\b- \b\b\\ \b\b| \b\b/ \b\b- \b\b\\ \b\b| \b\b/ \b\b- \b\b\\ \b\b| \b\b/ \b\b- \b\b\\ \b\b| \b\b/ \b\b- \b\b\\ \b\b| \b\b/ \b\b- \b\b\\ \b\b| \b\b/ \b\b- \b\b\\ \b\b| \b\b/ \b\b- \b\b\\ \b\b| \b\b/ \b\b- \b\b\\ \b\b| \b\b/ \b\b- \b\b\\ WARNING conda.core.solve:_add_specs(639): pinned spec cudatoolkit=11.8 conflicts with explicit specs.  Overriding pinned spec.\n",
            "\b\b| \b\b/ \b\b- \b\b\\ \b\b| \b\b/ \b\b- \b\b\\ \b\b| \b\b/ \b\b- \b\b\\ \b\b| \b\b/ \b\b- \b\b\\ \b\b| \b\b/ \b\b- \b\b\\ \b\b| \b\b/ \b\b- \b\b\\ \b\b| \b\b/ \b\b- \b\b\\ \b\b| \b\b/ \b\b- \b\b\\ \b\b| \b\b/ \b\b- \b\b\\ \b\b| \b\b/ \b\b- \b\b\\ \b\b| \b\b/ \b\b- \b\b\\ \b\b| \b\b/ \b\b- \b\b\\ \b\b| \b\b/ \b\b- \b\b\\ \b\b| \b\b/ \b\b- \b\b\\ \b\b| \b\b/ \b\b- \b\b\\ \b\b| \b\b/ \b\b- \b\b\\ \b\b| \b\b/ \b\b- \b\b\\ \b\b| \b\b/ \b\b- \b\b\\ \b\b| \b\b/ \b\b- \b\b\\ \b\b| \b\b/ \b\b- \b\b\\ \b\b| \b\b/ \b\b- \b\b\\ \b\b| \b\b/ \b\b- \b\b\\ \b\b| \b\b/ \b\b- \b\b\\ \b\b| \b\b/ \b\b- \b\b\\ \b\b| \b\b/ \b\b- \b\b\\ \b\b| \b\b/ \b\b- \b\b\\ \b\b| \b\b/ \b\b- \b\b\\ \b\b| \b\b/ \b\b- \b\b\\ \b\b| \b\b/ \b\b- \b\b\\ \b\b| \b\b/ \b\b- \b\b\\ \b\b| \b\b/ \b\b- \b\b\\ \b\b| \b\b/ \b\b- \b\b\\ \b\b| \b\b/ \b\b- \b\b\\ \b\b| \b\b/ \b\b- \b\b\\ \b\b| \b\b/ \b\b- \b\b\\ \b\b| \b\b/ \b\b- \b\b\\ \b\b| \b\b/ \b\b- \b\b\\ \b\b| \b\b/ \b\b- \b\b\\ \b\b| \b\b/ \b\b- \b\b\\ \b\b| \b\b/ \b\b- \b\b\\ \b\b| \b\b/ \b\b- \b\b\\ \b\b| \b\b/ \b\b- \b\b\\ \b\b| \b\b/ \b\b- \b\b\\ \b\b| \b\b/ \b\b- \b\b\\ \b\b| \b\b/ \b\b- \b\b\\ \b\b| \b\b/ \b\b- \b\b\\ \b\b| \b\b/ \b\b- \b\b\\ \b\b| \b\b/ \b\b- \b\b\\ \b\b| \b\b/ \b\b- \b\b\\ \b\b| \b\b/ \b\b- \b\b\\ \b\b| \b\b/ \b\b- \b\b\\ \b\b| \b\b/ \b\b- \b\b\\ \b\b| \b\b/ \b\b- \b\b\\ \b\b| \b\b/ \b\b- \b\b\\ \b\b| \b\b/ \b\b- \b\b\\ \b\b| \b\b/ \b\b- \b\b\\ \b\b| \b\b/ \b\b- \b\b\\ \b\b| \b\b/ \b\b- \b\b\\ \b\b| \b\b/ \b\b- \b\b\\ \b\b| \b\b/ \b\b- \b\b\\ \b\b| \b\b/ \b\b- \b\b\\ \b\b| \b\b/ \b\b- \b\b\\ \b\b| \b\b/ \b\b- \b\b\\ \b\b| \b\b/ \b\b- \b\b\\ \b\b| \b\b/ \b\b- \b\b\\ \b\b| \b\b/ \b\b- \b\b\\ \b\b| \b\b/ \b\b- \b\b\\ \b\b| \b\b/ \b\b- \b\b\\ \b\b| \b\b/ \b\b- \b\b\\ \b\b| \b\b/ \b\b- \b\b\\ \b\b| \b\b/ \b\b- \b\b\\ \b\b| \b\b/ \b\b- \b\b\\ \b\b| \b\b/ \b\b- \b\b\\ \b\b| \b\b/ \b\b- \b\b\\ \b\b| \b\b/ \b\b- \b\b\\ \b\b| \b\b/ \b\b- \b\b\\ \b\b| \b\b/ \b\b- \b\b\\ \b\b| \b\b/ \b\b- \b\b\\ \b\b| \b\b/ \b\b- \b\b\\ \b\b| \b\b/ \b\b- \b\b\\ \b\b| \b\b/ \b\b- \b\b\\ \b\b| \b\b/ \b\b- \b\b\\ \b\b| \b\b/ \b\b- \b\b\\ \b\b| \b\b/ \b\b- \b\b\\ \b\b| \b\b/ \b\b- \b\b\\ \b\b| \b\b/ \b\b- \b\b\\ \b\b| \b\b/ \b\b- \b\b\\ \b\b| \b\b/ \b\b- \b\b\\ \b\b| \b\b/ \b\b- \b\b\\ \b\b| \b\b/ \b\b- \b\b\\ \b\b| \b\b/ \b\b- \b\b\\ \b\b| \b\b/ \b\b- \b\b\\ \b\b| \b\b/ \b\b- \b\b\\ \b\b| \b\b/ \b\b- \b\b\\ \b\b| \b\b/ \b\b- \b\b\\ \b\b| \b\b/ \b\b- \b\b\\ \b\b| \b\b/ \b\b- \b\b\\ \b\b| \b\b/ \b\b- \b\b\\ \b\b| \b\b/ \b\b- \b\b\\ \b\b| \b\b/ \b\b- \b\b\\ \b\b| \b\b/ \b\b- \b\b\\ \b\b| \b\b/ \b\b- \b\b\\ \b\b| \b\b/ \b\b- \b\b\\ \b\b| \b\b/ \b\b- \b\b\\ \b\b| \b\b/ \b\b- \b\b\\ \b\b| \b\b/ \b\b- \b\b\\ \b\b| \b\b/ \b\b- \b\b\\ \b\b| \b\b/ \b\b- \b\b\\ \b\b| \b\b/ \b\b- \b\b\\ \b\b| \b\b/ \b\b- \b\b\\ \b\b| \b\b/ \b\b- \b\b\\ \b\b| \b\b/ \b\b- \b\b\\ \b\b| \b\b/ \b\b- \b\b\\ \b\b| \b\b/ \b\b- \b\b\\ \b\b| \b\b/ \b\b- \b\b\\ \b\b| \b\b/ \b\b- \b\b\\ \b\b| \b\b/ \b\b- \b\b\\ \b\b| \b\b/ \b\b- \b\b\\ \b\b| \b\b/ \b\b- \b\b\\ \b\b| \b\b/ \b\b- \b\b\\ \b\b| \b\b/ \b\b- \b\b\\ \b\b| \b\b/ \b\b- \b\b\\ \b\b| \b\b/ \b\b- \b\b\\ \b\b| \b\b/ \b\b- \b\b\\ \b\b| \b\b/ \b\b- \b\b\\ \b\b| \b\b/ \b\b- \b\b\\ \b\b| \b\b/ \b\b- \b\b\\ \b\b| \b\b/ \b\b- \b\b\\ \b\b| \b\b/ \b\b- \b\b\\ \b\b| \b\b/ \b\b- \b\b\\ \n",
            "Found conflicts! Looking for incompatible packages.\n",
            "This can take several minutes.  Press CTRL-C to abort.\n",
            "\b\bfailed\n",
            "\n",
            "UnsatisfiableError: The following specifications were found\n",
            "to be incompatible with the existing python installation in your environment:\n",
            "\n",
            "Specifications:\n",
            "\n",
            "  - pytorch=1.7.1 -> python[version='2.7.*|3.5.*|3.6.*|>=2.7,<2.8.0a0|>=3.10,<3.11.0a0|>=3.11,<3.12.0a0|>=3.12,<3.13.0a0|>=3.12.0rc3,<3.13.0a0|>=3.5,<3.6.0a0|3.4.*|>=3.8|>=3.7|>=3.6|>=3.5|3.9.*|>=3.6,<3.7|3.9.16|3.8.16|3.9.10|3.8.12|3.7.12|3.7.10|3.7.10|3.6.12|3.7.9|3.6.12|3.6.9|3.6.9|3.6.9|3.6.9|3.7.*|3.8.*',build='0_73_pypy|2_73_pypy|3_73_pypy|4_73_pypy|5_73_pypy|0_73_pypy|1_73_pypy|0_73_pypy|5_73_pypy|1_73_pypy']\n",
            "  - pytorch=1.7.1 -> python[version='>=3.6,<3.7.0a0|>=3.8,<3.9.0a0|>=3.9,<3.10.0a0|>=3.7,<3.8.0a0']\n",
            "\n",
            "Your python: python=3.10\n",
            "\n",
            "If python is on the left-most side of the chain, that's the version you've asked for.\n",
            "When python appears to the right, that indicates that the thing on the left is somehow\n",
            "not available for the python version you are constrained to. Note that conda will not\n",
            "change your python version to a different minor version unless you explicitly specify\n",
            "that.\n",
            "\n",
            "The following specifications were found to be incompatible with each other:\n",
            "\n",
            "Output in format: Requested package -> Available versions\n",
            "\n",
            "Package setuptools conflicts for:\n",
            "torchvision -> pytorch==1.13.1 -> setuptools[version='<59.6']\n",
            "python=3.10 -> pip -> setuptools\n",
            "\n",
            "Package _libgcc_mutex conflicts for:\n",
            "cudatoolkit=11.0 -> libgcc-ng[version='>=12'] -> _libgcc_mutex==0.1=conda_forge\n",
            "pytorch=1.7.1 -> _openmp_mutex[version='>=4.5'] -> _libgcc_mutex[version='*|0.1',build='conda_forge|main']\n",
            "python=3.10 -> libgcc-ng[version='>=12'] -> _libgcc_mutex==0.1=conda_forge\n",
            "torchvision -> libgcc-ng[version='>=12'] -> _libgcc_mutex[version='*|0.1',build='conda_forge|main']\n",
            "\n",
            "Package cudatoolkit conflicts for:\n",
            "pytorch=1.7.1 -> cudatoolkit[version='10.0|10.0.*|10.1|10.1.*|10.2|10.2.*|>=10.1,<10.2|>=11.0,<11.1|>=10.2,<10.3|>=9.2,<9.3|9.2|9.2.*']\n",
            "torchvision -> pytorch==1.7.1 -> cudatoolkit[version='10.0|10.0.*|10.1|10.1.*|9.2|9.2.*|11.*|10.2.*']\n",
            "torchvision -> cudatoolkit[version='10.2|10.2.*|11.0|11.0.*|11.1|11.1.*|>=10.1,<10.2|>=10.2,<10.3|>=11.3,<11.4|>=11.6,<11.7|>=11.5,<11.6|>=11.1,<11.2|>=11.0,<11.1|>=9.2,<9.3|>=11.8,<12|>=11.2,<12|>=11.2,<12.0a0']\n",
            "pytorch=1.7.1 -> magma[version='>=2.5.4,<2.5.5.0a0'] -> cudatoolkit[version='11.0|11.0.*|11.1|11.1.*|>=11.2,<12|>=11.2,<12.0a0']\n",
            "\n",
            "Package pytorch conflicts for:\n",
            "torchvision -> pytorch[version='*|*|1.10.*|1.10.*|1.10|1.10|1.10.0|1.10.1|1.10.2|1.11.0|1.12.0|1.12.1|1.13.0|1.13.1|2.0.0|2.0.1|2.1.0|2.1.1|1.9.1|1.9.0|1.8.1|1.8.0|1.7.1|1.7.0|1.6.0|1.5.1|2.1|>=2.1.0,<2.2.0a0|2.1|2.1|2.0|>=2.0.0,<2.1.0a0|2.0|2.0.*|>=1.13.1,<1.14.0a0|>=1.13.0,<1.14.0a0|>=1.12.0,<1.13.0a0|>=1.11.0,<1.12.0a0|>=1.10.2,<1.11.0a0|1.10.0.*|>=1.8.0|>=1.8.0',build='cpu*|cuda*|cpu*|cuda*|cpu*|cuda*|cuda112*|cpu*|cpu*|cuda112*|cuda118*|cuda112*|cpu*|cuda*']\n",
            "torchvision -> pytorch-cpu -> pytorch[version='1.10.0|1.10.0|1.10.0|1.10.0|1.10.0|1.10.0|1.10.0|1.10.0|1.10.0|1.10.0|1.10.0|1.10.0|1.10.0|1.10.0|1.10.0|1.10.0|1.10.0|1.10.0|1.10.0|1.10.0|1.10.0|1.10.0|1.10.0|1.10.0|1.10.0|1.10.0|1.10.0|1.10.0|1.10.0|1.10.0|1.10.1|1.10.1|1.10.1|1.10.2|1.10.2|1.10.2|1.10.2|1.10.2|1.10.2|1.11.0|1.11.0|1.11.0|1.11.0|1.11.0|1.11.0|1.11.0|1.11.0|1.11.0|1.11.0|1.11.0|1.11.0|1.12.0|1.12.0|1.12.0|1.12.0|1.12.0|1.12.0|1.12.0|1.12.0|1.12.0|1.12.0|1.12.0|1.12.0|1.12.1|1.12.1|1.12.1|1.12.1|1.12.1|1.12.1|1.12.1|1.12.1|1.13.0|1.13.0|1.13.0|1.13.0|1.13.1|1.13.1|1.13.1|1.13.1|1.13.1|1.13.1|1.13.1|1.13.1|2.0.0|2.0.0|2.0.0|2.0.0|2.0.0|2.0.0|2.0.0|2.0.0|2.0.0|2.0.0|2.0.0|2.0.0|2.0.0|2.0.0|2.0.0|2.0.0|2.0.0|2.0.0|2.0.0|2.0.0|2.0.0|2.0.0|2.0.0|2.0.0|2.0.0|2.0.0|2.0.0|2.0.0|2.0.0|2.0.0|2.0.0|2.0.0|2.0.0|2.0.0|2.0.0|2.0.0|2.1.0|1.9.1|1.9.1|1.9.1|1.9.1|1.9.0|1.9.0|1.9.0|1.9.0|1.9.0|1.9.0|1.9.0|1.9.0|1.9.0|1.9.0|1.9.0|1.9.0|1.8.0|1.8.0|1.8.0|1.8.0|1.8.0|1.8.0|1.8.0|1.8.0|1.8.0|1.8.0|1.8.0|1.8.0|1.8.0|1.8.0|1.8.0|1.8.0|1.7.1|1.7.1|1.7.1|1.7.1|1.7.1|1.7.1|1.7.1|1.7.1|1.6.0|1.6.0|1.6.0|1.6|2.1.0|2.1.0|2.1.0|2.1.0|2.1.0|2.1.0|2.1.0|2.1.0|2.1.0|2.1.0|2.1.0|2.1.0|2.1.0|2.1.0|2.1.0|2.1.0|2.1.0|2.1.0|2.1.0|2.1.0|2.0.0|2.0.0|2.0.0|2.0.0|2.0.0|2.0.0|2.0.0|2.0.0|2.0.0|2.0.0|2.0.0|2.0.0|2.0.0|2.0.0|2.0.0|2.0.0|2.0.0|2.0.0|2.0.0|2.0.0|2.0.0|2.0.0|2.0.0|2.0.0|2.0.0|2.0.0|2.0.0|1.13.1|1.13.1|1.13.1|1.13.1|1.13.0|1.13.0|1.13.0|1.13.0|1.12.1|1.12.1|1.12.1|1.12.1|1.12.1|1.12.1|1.12.1|1.12.1|1.12.1|1.12.1|1.12.1|1.12.1|1.12.1|1.12.1|1.12.1|1.12.1|1.12.1|1.12.1|1.12.1|1.12.1|1.12.1|1.12.1|1.12.1|1.12.1|1.12.1|1.12.1|1.12.1|1.12.1|1.12.1|1.12.1|1.12.1|1.12.1|1.12.0|1.12.0|1.12.0|1.12.0|1.12.0|1.12.0|1.12.0|1.12.0|1.12.0|1.12.0|1.12.0|1.12.0|1.12.0|1.12.0|1.12.0|1.12.0|1.12.0|1.12.0|1.12.0|1.12.0|1.12.0|1.12.0|1.12.0|1.12.0|1.12.0|1.12.0|1.12.0|1.12.0|1.12.0|1.12.0|1.12.0|1.12.0|1.11.0|1.11.0|1.11.0|1.11.0|1.11.0|1.11.0|1.11.0|1.11.0|1.11.0|1.11.0|1.11.0|1.11.0|1.11.0|1.11.0|1.11.0|1.11.0|1.11.0|1.11.0|1.11.0|1.11.0|1.11.0|1.11.0|1.11.0|1.11.0|1.11.0|1.11.0|1.11.0|1.11.0|1.11.0|1.11.0|1.11.0|1.11.0|1.11.0|1.11.0|1.10.2|1.10.2|1.10.2|1.10.2|1.10.2|1.10.2|1.10.2|1.10.2|1.10.2|1.10.2|1.10.2|1.10.2|1.10.2|1.10.2|1.10.2|1.10.2|1.10.2|1.10.2|1.10.2|1.10.2|1.10.2|1.10.2|1.10.2|1.10.2|1.10.1|1.10.1|1.10.1|1.10.1|1.10.1|1.10.1|1.10.1|1.10.1|1.10.1|1.10.1|1.10.1|1.10.1|1.9.1|1.9.1|1.9.1|1.9.1|1.9.1|1.9.1|1.9.1|1.9.1|1.9.1|1.9.1|1.9.1|1.9.1|1.9.1|1.9.1|1.9.1|1.9.1|1.9.0|1.9.0|1.9.0|1.9.0|1.9.0|1.9.0|1.9.0|1.9.0|1.9.0|1.9.0|1.9.0|1.9.0|1.9.0|1.9.0|1.9.0|1.9.0|1.8.0|1.8.0|1.8.0|1.8.0|1.8.0|1.8.0|1.8.0|1.8.0|1.8.0|1.8.0|1.8.0|1.8.0|1.8.0|1.8.0|1.8.0|1.8.0|1.7.1|1.7.1|1.7.1|1.7.1|1.7.1|1.7.1|1.7.1|1.7.1|1.7.1|1.7.1|1.7.1|1.7.1|1.7.1|1.7.1|1.7.1|1.7.1|1.6.0|1.6.0|1.6.0|1.6.0|1.6.0|1.6.0|1.6.0|1.6.0|1.6.0|1.6.0|1.6.0|1.6.0|1.6.0|1.6.0|1.6.0|1.6.0',build='cuda102py36h8620ce9_1|cuda92py37hc3ec645_1|cuda102py37h4d98c68_1|cuda101py37h7589291_1|cuda101py38h2499a06_1|cuda100py39h2b73809_1|cuda92py36h7ecc001_1|cuda102py36h8620ce9_1|cuda101py37h7589291_1|cuda102py39h09d0254_1|cuda100py39h2b73809_1|cuda102py36hf4eb8d7_0|cuda102py37h4454d97_0|cuda102py38h540557e_0|cuda102py39hf89b2ab_0|cuda110py37h5fb8b0b_0|cuda110py39hbc72f07_0|cuda111py38he2736ed_1|cuda111py36h3cb1cac_1|cuda111py37h50e976f_1|cuda111py39hc274426_1|cuda102py36he3537ca_1|cuda102py38hf03d9dd_1|cuda110py36h768fbb7_1|cuda112py39hbeb36f3_1|cuda110py38hc2289b8_1|cuda112py36h755b813_1|cuda111py36hc5445e6_1|cuda110py37h00edf66_1|cuda102py37h92fd811_1|cuda110py39hd6acddb_1|cuda112py36h36e649e_3|cuda111py36h8a2106e_3|cuda112py39h4e14dd4_3|cuda111py37he371307_3|cuda112py37h3bec1eb_3|cuda111py38h2f85826_3|cuda110py36he570edd_3|cuda110py38hf84197b_3|cuda110py39h5cf7045_3|cuda110py38hf84197b_0|cuda102py39h2fcd037_0|cuda112py37h3bec1eb_0|cuda111py37he371307_0|cuda102py38ha031fbe_0|cuda112py38h4f2a933_0|cuda111py39hb4a4491_0|cuda112py38had345c2_1|cuda110py38h68479e5_1|cuda102py38h17946ce_1|cuda111py39h7295ad4_1|cuda110py39h423d6c6_1|cuda111py37h07fa5b8_1|cuda102py38h9fb240c_0|cuda102py37hc804c4d_0|cuda102py39hfe0cb5b_0|cuda112py38h6425f36_0|cuda112py39h4de5995_0|cuda112py37hc1ee5ce_0|cuda110py38hf0a79ac_0|cuda112py39h4de5995_0|cuda112py37hc1ee5ce_0|cuda111py39h930882a_0|cuda110py38hf0a79ac_0|cuda102py37hc804c4d_0|cuda102py39hfe0cb5b_0|cuda112py37hc1ee5ce_1|cuda110py38hf0a79ac_1|cuda110py37h4121e64_1|cuda111py38hc64aeea_1|cuda102py38h9fb240c_1|cuda102py39hfe0cb5b_0|cuda111py37hdb2541a_1|cuda112py37hfcfbd4c_1|cuda110py310hfdf97d1_1|cuda102py39hbbcd3cb_1|cuda110py39h0a9da28_1|cuda102py39hbbcd3cb_202|cuda102py37haad9b4f_202|cuda110py38h386aa8f_202|cuda110py39h0a9da28_202|cuda110py310hfdf97d1_202|cuda111py38h2d04dd0_202|cuda111py310h385535d_202|cuda112py39ha0cca9b_202|cuda112py310h51fe464_202|cuda102py38hfdb21e3_200|cuda112py38habe9d5a_200|cuda110py38h386aa8f_200|cuda110py37h0def887_200|cuda102py37haad9b4f_200|cuda111py39h9f128c5_200|cuda112py39ha0cca9b_200|cuda111py38h2d04dd0_200|cuda112py310h51fe464_200|cuda111py310h385535d_200|cuda102py310hdf4a2db_202|cuda110py38h386aa8f_202|cuda110py37h0def887_202|cuda111py39h9f128c5_202|cuda102py39hbbcd3cb_202|cuda112py39ha0cca9b_202|cuda110py39h0a9da28_202|cuda112py310h51fe464_202|cuda111py310h385535d_202|cuda102py310hdf4a2db_200|cuda112py39ha0cca9b_200|cuda111py39h9f128c5_200|cuda111py38h2d04dd0_200|cuda102py38hfdb21e3_200|cuda112py38habe9d5a_200|cuda112py310h51fe464_200|cuda110py38h386aa8f_200|cuda110py37h0def887_200|cuda111py39h2c296c9_201|cuda111py37he43340c_201|cuda111py38h6bd3925_201|cuda112py39hb0b7ed5_201|cuda112py37h6a44366_201|cuda112py310he33e0d6_201|cuda112py38hd94e077_201|cuda110py310he962cc7_201|cuda102py310ha664643_201|cuda102py37h60b181b_201|cuda102py38h6471756_201|cuda112py39hb0b7ed5_200|cuda112py311h13fee9e_200|cuda112py39hb0b7ed5_200|cuda112py311h13fee9e_200|cuda112py39ha9981d0_200|cuda112py311h13fee9e_200|cuda112py310h21def76_301|cuda112py38hf22b3e7_302|cuda112py39h14ee7d9_302|cuda112py310h402320e_303|cuda112py38h80cb583_303|cuda112py311ha0492fd_304|cuda120py38h1932296_304|cuda120py310ha3a684c_304|cuda112py38ha6bdfc7_304|cuda118py311h3b8d1c1_304|cuda120py311h513d03c_304|cuda118py38hde7dd16_304|cuda120py38h1932296_300|cuda120py39hf872c3d_300|cuda112py310h46a1c77_300|cuda118py311h3b8d1c1_300|cuda118py310h072bc4c_300|cuda118py312hb689234_300|cuda118py38hde7dd16_300|cuda120py310ha3a684c_300|cuda120py311h513d03c_300|cuda112py312h162d976_300|cuda120py311h513d03c_301|cuda120py310ha3a684c_301|cuda120py312hfe5e8c6_301|cpu_py38h36eccb8_2|cpu_py37hf1c21f6_2|cpu_py36h2ecc29a_0|cpu_py38he614459_0|cpu_py39h0fbb4fb_0|cpu_py37ha70c682_1|cpu_py37hd5260e0_2|cpu_py38h91ab35c_2|cpu_py37hd5260e0_3|cpu_py36h95c28ec_3|cpu_py36h95c28ec_0|cpu_py37hff829bd_1|cpu_py39h818de69_1|cpu_py36h1c7b8ea_2|cpu_py38h4bbe6ce_2|cpu_py37hf3cc979_3|cpu_py39hc5866cc_3|cpu_py36ha8b20dc_3|cpu_py38h1ee18c8_3|cpu_py39hc5866cc_0|cpu_py37hf3cc979_0|cpu_py37h2761dfd_1|cpu_py38h7c5583f_1|cpu_py39hc70245e_1|cpu_py37h76afcab_0|cpu_py37h76afcab_0|cpu_py37h76afcab_1|cpu_py38hde1b6bc_0|cpu_py37hd754017_0|cpu_py39h7613f69_0|cpu_py310h2272b30_0|cpu_py38h39c826d_1|cpu_py39h5d22d69_1|cpu_py37h14e09b7_2|cpu_py38h39c826d_2|cpu_py39h5d22d69_0|cpu_py310h75c9ab6_0|cpu_py38h39c826d_0|cpu_py39h5d22d69_1|cpu_py37h14e09b7_1|cpu_py37h14e09b7_2|cpu_py38h39c826d_2|cpu_py38h39c826d_0|cpu_py310h75c9ab6_0|cpu_py39h3439074_1|cpu_py38h23e632a_1|cpu_py310h02c325b_1|cpu_py310h02c325b_0|cpu_py311h854973f_0|cpu_py38h23e632a_0|cpu_py39h3439074_0|cpu_py311h410fd25_0|cpu_py39h14c4022_0|cpu_py310hd11e9c7_0|cpu_py38hbac4b8a_1|cpu_py310hd11e9c7_1|cpu_py39he4d1dc0_0|cpu_generic_py38h1f6ab43_1|cpu_generic_py39h000fad7_1|cpu_generic_py39h08b6d46_2|cpu_generic_py310h21fa2ab_2|cpu_generic_py311h59ffd09_2|cpu_generic_py39hf33c0be_3|cpu_generic_py311h1e09d83_3|cpu_generic_py310hb3dc40f_4|cpu_generic_py311h495eaba_4|cpu_generic_py38had2c7df_4|cpu_mkl_py311h6acbe2c_102|cpu_mkl_py39h5fe9f1c_102|cpu_mkl_py38ha58350c_102|cpu_mkl_py39h1d6e76c_103|cpu_mkl_py310h2f53f51_103|cpu_mkl_py311h9b50292_103|cpu_mkl_py310h6d3c8b7_100|cpu_mkl_py312he0fccc1_100|cpu_mkl_py311h0c8a311_100|cpu_mkl_py39h36ec4d3_100|cpu_mkl_py38h80c77c0_100|cpu_generic_py312h84c7d19_0|cpu_generic_py38had2c7df_0|cpu_generic_py39h1dbe8e4_0|cpu_generic_py311h495eaba_0|cpu_generic_py310hb3dc40f_0|cpu_mkl_py311h0c8a311_104|cpu_mkl_py310h6d3c8b7_104|cpu_mkl_py38h80c77c0_104|cpu_mkl_py39h36ec4d3_104|cpu_mkl_py38h41aedd2_103|cpu_mkl_py310h44e7ea7_102|cpu_mkl_py38h85d2d9a_101|cpu_mkl_py311hd1ebf82_101|cpu_mkl_py310h402c8e3_101|cpu_mkl_py39h9f63279_101|cpu_generic_py39h1dbe8e4_4|cpu_generic_py38h3d07198_3|cpu_generic_py310he67e19a_3|cpu_generic_py38hbf964b3_2|cpu_generic_py310h7ffd2bf_1|cpu_generic_py311h7ba3f10_1|cpu_py311h410fd25_0|cpu_py310hd11e9c7_0|cpu_py38h019455c_0|cpu_py39h14c4022_1|cpu_py311h410fd25_1|cpu_py38hbac4b8a_0|cpu_py37h167888a_1|cpu_py39h5d22d69_0|cpu_py37h14e09b7_0|cpu_py39h5d22d69_2|cpu_py310h75c9ab6_2|cpu_py38h39c826d_1|cpu_py310h75c9ab6_1|cpu_py37h14e09b7_0|cpu_py39h5d22d69_2|cpu_py310h75c9ab6_2|cpu_py310h75c9ab6_1|cpu_py37h14e09b7_1|cpu_py39h5e9ed0b_1|cpu_py38hb2150b6_1|cpu_py38hb2150b6_0|cpu_py39h5e9ed0b_0|cpu_py39h5e9ed0b_0|cpu_py38hb2150b6_0|cpu_py38h1ee18c8_0|cpu_py39h818de69_2|cpu_py37hb06efa0_2|cpu_py38hfb3baa6_1|cpu_py36h3564fbe_1|cpu_py37hd5260e0_0|cpu_py39hfbcbfe4_0|cpu_py38h91ab35c_0|cpu_py39hfbcbfe4_3|cpu_py38h91ab35c_3|cpu_py39hfbcbfe4_2|cpu_py36h95c28ec_2|cpu_py38hd248515_1|cpu_py39h0fbb4fb_1|cpu_py36h2d15a6b_1|cpu_py37hafa7651_0|cpu_py39h714fb45_2|cpu_py36h63cae03_2|cpu_py37hf1c21f6_1|cpu_py36h63cae03_1|cpu_py38h36eccb8_1|cpu_py39h714fb45_1|cpu_py38h36eccb8_1|cpu_py36h63cae03_1|cpu_py37hf1c21f6_1|cuda120py38h1932296_301|cuda120py39hf872c3d_301|cuda118py39h06e0762_300|cuda112py311ha0492fd_300|cuda120py312hfe5e8c6_300|cuda112py38ha6bdfc7_300|cuda112py39h1ecdb5d_300|cuda118py39h06e0762_304|cuda118py310h072bc4c_304|cuda120py39hf872c3d_304|cuda112py39h1ecdb5d_304|cuda112py310h46a1c77_304|cuda112py39h1b337e0_303|cuda112py311hf4e4fe6_303|cuda112py310he0931da_302|cuda112py39ha9a2dba_301|cuda112py38haa925fe_301|cuda112py311hc11b779_301|cuda112py310he33e0d6_200|cuda112py38h5e67e12_200|cuda112py38hd94e077_200|cuda112py310he33e0d6_200|cuda112py38hd94e077_200|cuda112py310he33e0d6_200|cuda110py38haf7ec07_201|cuda110py37h54de3e3_201|cuda102py39h5d53aaf_201|cuda110py39h10c7883_201|cuda111py310h338e39d_201|cuda110py39h0a9da28_200|cuda102py37haad9b4f_200|cuda110py310hfdf97d1_200|cuda111py310h385535d_200|cuda111py37hdb2541a_200|cuda112py37hfcfbd4c_200|cuda102py39hbbcd3cb_200|cuda111py38h2d04dd0_202|cuda110py310hfdf97d1_202|cuda102py37haad9b4f_202|cuda112py37hfcfbd4c_202|cuda111py37hdb2541a_202|cuda112py38habe9d5a_202|cuda102py38hfdb21e3_202|cuda110py39h0a9da28_200|cuda102py39hbbcd3cb_200|cuda110py310hfdf97d1_200|cuda112py37hfcfbd4c_200|cuda111py37hdb2541a_200|cuda102py310hdf4a2db_200|cuda112py38habe9d5a_202|cuda112py37hfcfbd4c_202|cuda111py39h9f128c5_202|cuda111py37hdb2541a_202|cuda110py37h0def887_202|cuda102py310hdf4a2db_202|cuda102py38hfdb21e3_202|cuda111py310h385535d_1|cuda112py310h51fe464_1|cuda111py38h2d04dd0_1|cuda112py39ha0cca9b_1|cuda111py39h9f128c5_1|cuda102py37haad9b4f_1|cuda110py37h0def887_1|cuda110py38h386aa8f_1|cuda102py310hdf4a2db_1|cuda112py38habe9d5a_1|cuda102py38hfdb21e3_1|cuda110py38hade5236_0|cuda111py39h930882a_1|cuda112py39h4de5995_1|cuda102py39hfe0cb5b_1|cuda110py39he47eb21_1|cuda112py38h6425f36_1|cuda111py37hc0ce48b_1|cuda102py37hc804c4d_1|cuda102py38h9fb240c_0|cuda110py37h4121e64_0|cuda110py39he47eb21_0|cuda111py37hc0ce48b_0|cuda111py38hc64aeea_0|cuda112py38h6425f36_0|cuda110py37h4121e64_0|cuda110py39he47eb21_0|cuda111py37hc0ce48b_0|cuda111py39h930882a_0|cuda111py38hc64aeea_0|cuda102py37h689c94d_1|cuda110py37h7b7832c_1|cuda111py38h9575ccd_1|cuda102py39h06ffc54_1|cuda112py39h3ad47f5_1|cuda112py37haf94430_1|cuda112py39h4e14dd4_0|cuda110py39h5cf7045_0|cuda102py37h98b7ee3_0|cuda110py37h4a33b93_0|cuda111py38h2f85826_0|cuda110py37h4a33b93_3|cuda102py39h2fcd037_3|cuda102py38ha031fbe_3|cuda102py37h98b7ee3_3|cuda102py36h3d4679f_3|cuda111py39hb4a4491_3|cuda112py38h4f2a933_3|cuda112py38h3d13190_1|cuda111py37h78388d7_1|cuda112py37hcb91bf2_1|cuda102py39h9bf10ef_1|cuda111py38h5169e65_1|cuda112py37h946b90b_1|cuda112py36h5fea6e2_1|cuda112py39h716d6ff_1|cuda111py39h37e5b68_1|cuda112py38h3bc52bc_1|cuda110py38h65e529b_0|cuda110py36h7ef7e1d_0|cuda102py38h9f8c3ab_1|cuda101py39h41d04a9_1|cuda101py36h42dc283_1|cuda100py38h679e3f5_1|cuda92py38hb6ed0dd_1|cuda92py39hde86683_1|cuda101py38h2499a06_1|cuda100py37h50b9e00_1|cuda102py37h4d98c68_1|cuda92py37hc3ec645_1|cuda100py36hd82b6f9_1|cuda102py38h9f8c3ab_1|cuda101py39h41d04a9_1|cuda92py39hde86683_1|cuda102py39h09d0254_1|cuda100py38h679e3f5_1|cuda92py38hb6ed0dd_1|cuda100py37h50b9e00_1|cuda101py36h42dc283_1|cuda100py36hd82b6f9_1|cuda92py36h7ecc001_1']\n",
            "\n",
            "Package libgcc-ng conflicts for:\n",
            "python=3.10 -> bzip2[version='>=1.0.8,<2.0a0'] -> libgcc-ng[version='>=7.3.0|>=7.5.0|>=9.3.0']\n",
            "python=3.10 -> libgcc-ng[version='>=10.3.0|>=12|>=9.4.0']The following specifications were found to be incompatible with your system:\n",
            "\n",
            "  - feature:/linux-64::__cuda==12.0=0\n",
            "  - feature:/linux-64::__glibc==2.35=0\n",
            "  - feature:|@/linux-64::__glibc==2.35=0\n",
            "  - cudatoolkit=11.0 -> __glibc[version='>=2.17,<3.0.a0']\n",
            "  - pytorch=1.7.1 -> cudatoolkit[version='>=11.0,<11.1'] -> __glibc[version='>=2.17|>=2.17,<3.0.a0']\n",
            "  - pytorch=1.7.1 -> nccl[version='>=2.7.8.1,<3.0a0'] -> __cuda[version='10.2|10.2.*|11.0|11.0.*|>=11.2,<12|11.1|11.1.*']\n",
            "  - torchvision -> __glibc[version='>=2.17|>=2.17,<3.0.a0']\n",
            "  - torchvision -> pytorch==2.1.0 -> __cuda\n",
            "\n",
            "Your installed version is: 2.35\n",
            "\n",
            "\n",
            "Requirement already satisfied: ftfy in /usr/local/lib/python3.10/site-packages (6.1.3)\n",
            "Requirement already satisfied: regex in /usr/local/lib/python3.10/site-packages (2023.10.3)\n",
            "Requirement already satisfied: tqdm in /usr/local/lib/python3.10/site-packages (4.65.0)\n",
            "Requirement already satisfied: wcwidth<0.3.0,>=0.2.12 in /usr/local/lib/python3.10/site-packages (from ftfy) (0.2.12)\n",
            "\u001b[33mWARNING: Running pip as the 'root' user can result in broken permissions and conflicting behaviour with the system package manager. It is recommended to use a virtual environment instead: https://pip.pypa.io/warnings/venv\u001b[0m\u001b[33m\n",
            "\u001b[0mCollecting git+https://github.com/openai/CLIP.git\n",
            "  Cloning https://github.com/openai/CLIP.git to /tmp/pip-req-build-emea7ofm\n",
            "  Running command git clone --filter=blob:none --quiet https://github.com/openai/CLIP.git /tmp/pip-req-build-emea7ofm\n",
            "  Resolved https://github.com/openai/CLIP.git to commit a1d071733d7111c9c014f024669f959182114e33\n",
            "  Preparing metadata (setup.py) ... \u001b[?25l\u001b[?25hdone\n",
            "Requirement already satisfied: ftfy in /usr/local/lib/python3.10/site-packages (from clip==1.0) (6.1.3)\n",
            "Requirement already satisfied: regex in /usr/local/lib/python3.10/site-packages (from clip==1.0) (2023.10.3)\n",
            "Requirement already satisfied: tqdm in /usr/local/lib/python3.10/site-packages (from clip==1.0) (4.65.0)\n",
            "Requirement already satisfied: torch in /usr/local/lib/python3.10/site-packages (from clip==1.0) (2.1.1)\n",
            "Requirement already satisfied: torchvision in /usr/local/lib/python3.10/site-packages (from clip==1.0) (0.16.1)\n",
            "Requirement already satisfied: wcwidth<0.3.0,>=0.2.12 in /usr/local/lib/python3.10/site-packages (from ftfy->clip==1.0) (0.2.12)\n",
            "Requirement already satisfied: networkx in /usr/local/lib/python3.10/site-packages (from torch->clip==1.0) (3.2.1)\n",
            "Requirement already satisfied: triton==2.1.0 in /usr/local/lib/python3.10/site-packages (from torch->clip==1.0) (2.1.0)\n",
            "Requirement already satisfied: sympy in /usr/local/lib/python3.10/site-packages (from torch->clip==1.0) (1.12)\n",
            "Requirement already satisfied: nvidia-nccl-cu12==2.18.1 in /usr/local/lib/python3.10/site-packages (from torch->clip==1.0) (2.18.1)\n",
            "Requirement already satisfied: nvidia-curand-cu12==10.3.2.106 in /usr/local/lib/python3.10/site-packages (from torch->clip==1.0) (10.3.2.106)\n",
            "Requirement already satisfied: jinja2 in /usr/local/lib/python3.10/site-packages (from torch->clip==1.0) (3.1.2)\n",
            "Requirement already satisfied: nvidia-cuda-runtime-cu12==12.1.105 in /usr/local/lib/python3.10/site-packages (from torch->clip==1.0) (12.1.105)\n",
            "Requirement already satisfied: nvidia-nvtx-cu12==12.1.105 in /usr/local/lib/python3.10/site-packages (from torch->clip==1.0) (12.1.105)\n",
            "Requirement already satisfied: nvidia-cusolver-cu12==11.4.5.107 in /usr/local/lib/python3.10/site-packages (from torch->clip==1.0) (11.4.5.107)\n",
            "Requirement already satisfied: nvidia-cublas-cu12==12.1.3.1 in /usr/local/lib/python3.10/site-packages (from torch->clip==1.0) (12.1.3.1)\n",
            "Requirement already satisfied: fsspec in /usr/local/lib/python3.10/site-packages (from torch->clip==1.0) (2023.12.1)\n",
            "Requirement already satisfied: nvidia-cufft-cu12==11.0.2.54 in /usr/local/lib/python3.10/site-packages (from torch->clip==1.0) (11.0.2.54)\n",
            "Requirement already satisfied: nvidia-cuda-cupti-cu12==12.1.105 in /usr/local/lib/python3.10/site-packages (from torch->clip==1.0) (12.1.105)\n",
            "Requirement already satisfied: nvidia-cusparse-cu12==12.1.0.106 in /usr/local/lib/python3.10/site-packages (from torch->clip==1.0) (12.1.0.106)\n",
            "Requirement already satisfied: typing-extensions in /usr/local/lib/python3.10/site-packages (from torch->clip==1.0) (4.8.0)\n",
            "Requirement already satisfied: nvidia-cudnn-cu12==8.9.2.26 in /usr/local/lib/python3.10/site-packages (from torch->clip==1.0) (8.9.2.26)\n",
            "Requirement already satisfied: nvidia-cuda-nvrtc-cu12==12.1.105 in /usr/local/lib/python3.10/site-packages (from torch->clip==1.0) (12.1.105)\n",
            "Requirement already satisfied: filelock in /usr/local/lib/python3.10/site-packages (from torch->clip==1.0) (3.13.1)\n",
            "Requirement already satisfied: nvidia-nvjitlink-cu12 in /usr/local/lib/python3.10/site-packages (from nvidia-cusolver-cu12==11.4.5.107->torch->clip==1.0) (12.3.101)\n",
            "Requirement already satisfied: numpy in /usr/local/lib/python3.10/site-packages (from torchvision->clip==1.0) (1.26.2)\n",
            "Requirement already satisfied: requests in /usr/local/lib/python3.10/site-packages (from torchvision->clip==1.0) (2.28.2)\n",
            "Requirement already satisfied: pillow!=8.3.*,>=5.3.0 in /usr/local/lib/python3.10/site-packages (from torchvision->clip==1.0) (10.1.0)\n",
            "Requirement already satisfied: MarkupSafe>=2.0 in /usr/local/lib/python3.10/site-packages (from jinja2->torch->clip==1.0) (2.1.3)\n",
            "Requirement already satisfied: certifi>=2017.4.17 in /usr/local/lib/python3.10/site-packages (from requests->torchvision->clip==1.0) (2022.12.7)\n",
            "Requirement already satisfied: urllib3<1.27,>=1.21.1 in /usr/local/lib/python3.10/site-packages (from requests->torchvision->clip==1.0) (1.26.15)\n",
            "Requirement already satisfied: charset-normalizer<4,>=2 in /usr/local/lib/python3.10/site-packages (from requests->torchvision->clip==1.0) (3.1.0)\n",
            "Requirement already satisfied: idna<4,>=2.5 in /usr/local/lib/python3.10/site-packages (from requests->torchvision->clip==1.0) (3.4)\n",
            "Requirement already satisfied: mpmath>=0.19 in /usr/local/lib/python3.10/site-packages (from sympy->torch->clip==1.0) (1.3.0)\n",
            "\u001b[33mWARNING: Running pip as the 'root' user can result in broken permissions and conflicting behaviour with the system package manager. It is recommended to use a virtual environment instead: https://pip.pypa.io/warnings/venv\u001b[0m\u001b[33m\n",
            "\u001b[0m"
          ]
        }
      ]
    },
    {
      "cell_type": "code",
      "source": [],
      "metadata": {
        "id": "YV2U8dfT8tKb"
      },
      "execution_count": null,
      "outputs": []
    },
    {
      "cell_type": "code",
      "source": [
        "import torch\n",
        "import clip\n",
        "from PIL import Image\n",
        "\n",
        "device = \"cuda\" if torch.cuda.is_available() else \"cpu\"\n",
        "model, preprocess = clip.load(\"ViT-B/32\", device=device)\n",
        "emnist_balanced_classes = [\n",
        "    '0', '1', '2', '3', '4', '5', '6', '7', '8', '9',\n",
        "    'A', 'B', 'C', 'D', 'E', 'F', 'G', 'H', 'I', 'J',\n",
        "    'K', 'L', 'M', 'N', 'O', 'P', 'Q', 'R', 'S', 'T',\n",
        "    'U', 'V', 'W', 'X', 'Y', 'Z', 'a', 'b', 'c', 'd',\n",
        "    'e', 'f', 'g', 'h', 'i', 'j', 'k'\n",
        "]\n",
        "\n",
        "image = preprocess(images[0].unsqueeze(0).to(device))\n",
        "text = clip.tokenize(emnist_balanced_classes.to(device))\n",
        "\n",
        "with torch.no_grad():\n",
        "    image_features = model.encode_image(image)\n",
        "    text_features = model.encode_text(text)\n",
        "\n",
        "    logits_per_image, logits_per_text = model(image, text)\n",
        "    probs = logits_per_image.softmax(dim=-1).cpu().numpy()\n",
        "\n",
        "print(\"Label probs:\", probs)"
      ],
      "metadata": {
        "colab": {
          "base_uri": "https://localhost:8080/",
          "height": 245
        },
        "id": "AqTgkbvqw3Zd",
        "outputId": "8c4fe2c0-7bef-4bc7-a721-bb1c690f9588"
      },
      "execution_count": 25,
      "outputs": [
        {
          "output_type": "error",
          "ename": "AttributeError",
          "evalue": "ignored",
          "traceback": [
            "\u001b[0;31m---------------------------------------------------------------------------\u001b[0m",
            "\u001b[0;31mAttributeError\u001b[0m                            Traceback (most recent call last)",
            "\u001b[0;32m<ipython-input-25-d2e4a74ca5e5>\u001b[0m in \u001b[0;36m<cell line: 15>\u001b[0;34m()\u001b[0m\n\u001b[1;32m     13\u001b[0m ]\n\u001b[1;32m     14\u001b[0m \u001b[0;34m\u001b[0m\u001b[0m\n\u001b[0;32m---> 15\u001b[0;31m \u001b[0mimage\u001b[0m \u001b[0;34m=\u001b[0m \u001b[0mpreprocess\u001b[0m\u001b[0;34m(\u001b[0m\u001b[0mimages\u001b[0m\u001b[0;34m[\u001b[0m\u001b[0;36m0\u001b[0m\u001b[0;34m]\u001b[0m\u001b[0;34m.\u001b[0m\u001b[0munsqueeze\u001b[0m\u001b[0;34m(\u001b[0m\u001b[0;36m0\u001b[0m\u001b[0;34m)\u001b[0m\u001b[0;34m.\u001b[0m\u001b[0mto\u001b[0m\u001b[0;34m(\u001b[0m\u001b[0mdevice\u001b[0m\u001b[0;34m)\u001b[0m\u001b[0;34m)\u001b[0m\u001b[0;34m\u001b[0m\u001b[0;34m\u001b[0m\u001b[0m\n\u001b[0m\u001b[1;32m     16\u001b[0m \u001b[0mtext\u001b[0m \u001b[0;34m=\u001b[0m \u001b[0mclip\u001b[0m\u001b[0;34m.\u001b[0m\u001b[0mtokenize\u001b[0m\u001b[0;34m(\u001b[0m\u001b[0memnist_balanced_classes\u001b[0m\u001b[0;34m.\u001b[0m\u001b[0mto\u001b[0m\u001b[0;34m(\u001b[0m\u001b[0mdevice\u001b[0m\u001b[0;34m)\u001b[0m\u001b[0;34m)\u001b[0m\u001b[0;34m\u001b[0m\u001b[0;34m\u001b[0m\u001b[0m\n\u001b[1;32m     17\u001b[0m \u001b[0;34m\u001b[0m\u001b[0m\n",
            "\u001b[0;31mAttributeError\u001b[0m: 'numpy.ndarray' object has no attribute 'unsqueeze'"
          ]
        }
      ]
    }
  ],
  "metadata": {
    "colab": {
      "provenance": [],
      "gpuType": "T4",
      "machine_shape": "hm",
      "mount_file_id": "1ihkVrsfEikwL_hO2QzpmfLiaBVEYHT9r",
      "authorship_tag": "ABX9TyPXa1YwQU5HBCOJV2KxmruU",
      "include_colab_link": true
    },
    "kernelspec": {
      "display_name": "Python 3",
      "name": "python3"
    },
    "language_info": {
      "name": "python"
    },
    "accelerator": "GPU"
  },
  "nbformat": 4,
  "nbformat_minor": 0
}
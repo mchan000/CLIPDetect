{
  "cells": [
    {
      "cell_type": "code",
      "execution_count": null,
      "metadata": {
        "id": "3MKdKe59Ha0M"
      },
      "outputs": [],
      "source": [
        "!pip install emnist"
      ]
    },
    {
      "cell_type": "code",
      "source": [
        "import torch\n",
        "import torch.nn as nn\n",
        "import torch.nn.functional as F\n",
        "import torch.optim as optim\n",
        "from torch.utils.data import DataLoader, TensorDataset\n",
        "from torchvision import transforms\n",
        "from emnist import extract_training_samples, extract_test_samples"
      ],
      "metadata": {
        "id": "W5y8yRxwogsu"
      },
      "execution_count": null,
      "outputs": []
    },
    {
      "cell_type": "code",
      "execution_count": null,
      "metadata": {
        "colab": {
          "background_save": true
        },
        "id": "cJGexjKKqrbV"
      },
      "outputs": [],
      "source": [
        "class RandomKernelCNN(nn.Module):\n",
        "  def __init__(self, input_channels, num_classes, min_kernel_size, max_kernel_size):\n",
        "    super(RandomKernelCNN, self).__init__()\n",
        "\n",
        "    # Randomly choose kernel size between min and max for each convolutional layer\n",
        "    self.conv1 = nn.Conv2d(input_channels, 16, kernel_size=torch.randint(min_kernel_size, max_kernel_size + 1, (1,)).item(), stride=1, padding=1)\n",
        "    self.conv2 = nn.Conv2d(16, 32, kernel_size=torch.randint(min_kernel_size, max_kernel_size + 1, (1,)).item(), stride=1, padding=1)\n",
        "    self.conv3 = nn.Conv2d(32, 64, kernel_size=torch.randint(min_kernel_size, max_kernel_size + 1, (1,)).item(), stride=1, padding=1)\n",
        "    self.pool = nn.AdaptiveAvgPool2d(7)\n",
        "    self.fc1 = nn.Linear(64 * 7 * 7, num_classes)\n",
        "\n",
        "  def forward(self, x):\n",
        "    x = F.relu(self.conv1(x))\n",
        "    x = F.relu(self.conv2(x))\n",
        "    x = F.relu(self.conv3(x))\n",
        "    x = self.pool(x)\n",
        "    x = x.view(x.size(0), -1)\n",
        "    x = self.fc1(x)\n",
        "    return x"
      ]
    },
    {
      "cell_type": "code",
      "source": [
        "# Load and preprocess the EMNIST dataset\n",
        "train_images, train_labels = extract_training_samples('digits')\n",
        "test_images, test_labels = extract_test_samples('digits')\n",
        "\n",
        "train_images = torch.unsqueeze(torch.tensor(train_images), 1).float() / 255.0\n",
        "test_images = torch.unsqueeze(torch.tensor(test_images), 1).float() / 255.0\n",
        "train_labels = torch.tensor(train_labels)\n",
        "test_labels = torch.tensor(test_labels)\n",
        "\n",
        "# Create DataLoader\n",
        "train_dataset = TensorDataset(train_images, train_labels)\n",
        "train_dataloader = DataLoader(train_dataset, batch_size=64, shuffle=True)\n",
        "\n",
        "# Instantiate the random kernel model\n",
        "input_channels = 1  # grayscale images\n",
        "num_classes = 47  # For balanced EMNIST dataset\n",
        "min_kernel_size = 3  # Minimum kernel size\n",
        "max_kernel_size = 7  # Maximum kernel size\n",
        "\n",
        "model = RandomKernelCNN(input_channels, num_classes, min_kernel_size, max_kernel_size)\n",
        "\n",
        "# Define loss function and optimizer\n",
        "criterion = nn.CrossEntropyLoss()\n",
        "optimizer = optim.Adam(model.parameters(), lr=0.001)"
      ],
      "metadata": {
        "id": "LkJ8D--9owt7"
      },
      "execution_count": null,
      "outputs": []
    },
    {
      "cell_type": "code",
      "source": [
        "# Training loop\n",
        "epochs = 10\n",
        "for epoch in range(epochs):\n",
        "  for images, labels in train_dataloader:\n",
        "    # Forward pass\n",
        "    outputs = model(images)\n",
        "    loss = criterion(outputs, labels)\n",
        "\n",
        "    # Backward pass and optimization\n",
        "    optimizer.zero_grad()\n",
        "    loss.backward()\n",
        "    optimizer.step()\n",
        "\n",
        "  print(f'Epoch {epoch+1}/{epochs}, Loss: {loss.item()}')\n"
      ],
      "metadata": {
        "id": "t6ZOOQVconsR"
      },
      "execution_count": null,
      "outputs": []
    },
    {
      "cell_type": "code",
      "source": [
        "# Create DataLoader for test dataset\n",
        "test_dataset = TensorDataset(test_images, test_labels)\n",
        "test_dataloader = DataLoader(test_dataset, batch_size=64, shuffle=False)\n",
        "\n",
        "# Evaluation on test set\n",
        "model.eval()\n",
        "with torch.no_grad():\n",
        "  correct = 0\n",
        "  total = 0\n",
        "  for images, labels in test_dataloader:\n",
        "    outputs = model(images)\n",
        "    _, predicted = torch.max(outputs.data, 1)\n",
        "    total += labels.size(0)\n",
        "    correct += (predicted == labels).sum().item()\n",
        "\n",
        "accuracy = correct / total\n",
        "print(f'Test Accuracy: {accuracy * 100:.2f}%')"
      ],
      "metadata": {
        "id": "dIF6Gr0VoqzY"
      },
      "execution_count": null,
      "outputs": []
    }
  ],
  "metadata": {
    "accelerator": "GPU",
    "colab": {
      "machine_shape": "hm",
      "provenance": [],
      "mount_file_id": "1ihkVrsfEikwL_hO2QzpmfLiaBVEYHT9r",
      "authorship_tag": "ABX9TyP/qR9uKKe05RL0dqEiby1t"
    },
    "kernelspec": {
      "display_name": "Python 3",
      "name": "python3"
    },
    "language_info": {
      "name": "python"
    }
  },
  "nbformat": 4,
  "nbformat_minor": 0
}
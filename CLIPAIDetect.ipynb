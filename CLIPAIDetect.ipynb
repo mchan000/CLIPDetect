{
  "cells": [
    {
      "cell_type": "markdown",
      "metadata": {
        "id": "view-in-github",
        "colab_type": "text"
      },
      "source": [
        "<a href=\"https://colab.research.google.com/github/mchan000/CLIPDetect/blob/main/CLIPAIDetect.ipynb\" target=\"_parent\"><img src=\"https://colab.research.google.com/assets/colab-badge.svg\" alt=\"Open In Colab\"/></a>"
      ]
    },
    {
      "cell_type": "code",
      "source": [
        "!pip install -q condacolab\n",
        "import condacolab\n",
        "condacolab.install()\n",
        "\n",
        "!conda install --yes -c pytorch pytorch=1.7.1 torchvision cudatoolkit=11.0\n",
        "!pip install ftfy regex tqdm\n",
        "!pip install git+https://github.com/openai/CLIP.git\n",
        "!pip install transformers\n",
        "\n",
        "\n",
        "\n"
      ],
      "metadata": {
        "id": "bsgWUdo7vsxy"
      },
      "execution_count": null,
      "outputs": []
    },
    {
      "cell_type": "code",
      "source": [
        "import zipfile\n",
        "from google.colab import drive\n",
        "\n",
        "drive.mount('/content/drive/')\n",
        "\n",
        "zip_ref = zipfile.ZipFile(\"/content/drive/My Drive/archive.zip\", 'r')\n",
        "zip_ref.extractall(\"/tmp\")\n",
        "zip_ref.close()\n",
        "\n"
      ],
      "metadata": {
        "id": "Hgmx2Jthv_Eo"
      },
      "execution_count": null,
      "outputs": []
    },
    {
      "cell_type": "code",
      "source": [
        "import os\n",
        "import clip\n",
        "from PIL import Image\n",
        "import torch\n",
        "\n",
        "device = \"cuda\" if torch.cuda.is_available() else \"cpu\"\n",
        "model, preprocess = clip.load(\"ViT-B/32\", device=device)\n",
        "\n",
        "def classify_image(image_path):\n",
        "    image = preprocess(Image.open(image_path)).unsqueeze(0).to(device)\n",
        "    text = [\"AI generated\", \"Not AI generated\"]\n",
        "    label = [\"AI generated\", \"Not AI generated\"]\n",
        "    text = clip.tokenize(text).to(device)\n",
        "    class_logits = model(image, text)\n",
        "    class_probabilities = class_logits[0].softmax(dim=-1)\n",
        "    predicted_class = torch.argmax(class_probabilities).item()\n",
        "    predicted_label = label[predicted_class]\n",
        "    # print(f\"The image is classified as: {predicted_label}\")\n",
        "    return 1 if predicted_label == \"AI generated\" else 0\n",
        "\n",
        "counter = 0\n",
        "ai_counter = 0\n",
        "\n",
        "folder_path = \"/tmp/test/FAKE\"\n",
        "for filename in os.listdir(folder_path):\n",
        "    if filename.endswith(\".jpg\") or filename.endswith(\".png\"):\n",
        "        counter += 1\n",
        "        image_path = os.path.join(folder_path, filename)\n",
        "        ai_counter += classify_image(image_path)\n",
        "    else:\n",
        "        continue\n",
        "\n",
        "ai_counter/counter\n",
        "\n"
      ],
      "metadata": {
        "id": "tLgX0IkYwD_q"
      },
      "execution_count": null,
      "outputs": []
    },
    {
      "cell_type": "code",
      "source": [
        "import clip\n",
        "from PIL import Image\n",
        "import torch\n",
        "\n",
        "# Load CLIP model and preprocessing\n",
        "device = \"cuda\" if torch.cuda.is_available() else \"cpu\"\n",
        "model, preprocess = clip.load(\"ViT-B/32\", device=device)\n",
        "\n",
        "# Load and preprocess the image\n",
        "image_path = \"/content/oneman.png\"\n",
        "image = preprocess(Image.open(image_path)).unsqueeze(0).to(device)\n",
        "\n",
        "# Perform image classification\n",
        "text = [\"ai generated\", \"not ai generated\"]\n",
        "labels = [\"ai generated\", \"not ai generated\"]\n",
        "text = clip.tokenize(text).to(device)\n",
        "img_logits, text_logits = model(image, text)\n",
        "img_logits, text_logits\n",
        "\n"
      ],
      "metadata": {
        "id": "XzYz3y2lwH4U"
      },
      "execution_count": null,
      "outputs": []
    },
    {
      "cell_type": "code",
      "source": [
        "# Get predicted class\n",
        "class_probabilities = img_logits.softmax(dim=-1)\n",
        "predicted_class = torch.argmax(class_probabilities).item()\n",
        "print(f\"The image is {labels[predicted_class]}\")\n"
      ],
      "metadata": {
        "id": "MAzfjXoMwJkP"
      },
      "execution_count": null,
      "outputs": []
    }
  ],
  "metadata": {
    "colab": {
      "provenance": [],
      "gpuType": "T4",
      "machine_shape": "hm",
      "mount_file_id": "1ihkVrsfEikwL_hO2QzpmfLiaBVEYHT9r",
      "authorship_tag": "ABX9TyMgkhbcB9RvCpxM7jSRU0PX",
      "include_colab_link": true
    },
    "kernelspec": {
      "display_name": "Python 3",
      "name": "python3"
    },
    "language_info": {
      "name": "python"
    },
    "accelerator": "GPU"
  },
  "nbformat": 4,
  "nbformat_minor": 0
}